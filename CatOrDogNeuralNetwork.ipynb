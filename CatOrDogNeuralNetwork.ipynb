{
 "cells": [
  {
   "attachments": {},
   "cell_type": "markdown",
   "metadata": {},
   "source": [
    "Cat or Dog Neural Network"
   ]
  },
  {
   "cell_type": "code",
   "execution_count": 1,
   "metadata": {},
   "outputs": [],
   "source": [
    "#load modules\n",
    "from tensorflow.keras.preprocessing.image import ImageDataGenerator\n",
    "from keras import preprocessing\n",
    "import tensorflow as tf\n",
    "import os\n",
    "from PIL import Image\n",
    "import splitfolders"
   ]
  },
  {
   "attachments": {},
   "cell_type": "markdown",
   "metadata": {},
   "source": [
    "Image Processing"
   ]
  },
  {
   "cell_type": "code",
   "execution_count": 2,
   "metadata": {},
   "outputs": [],
   "source": [
    "#goes through each image and checks if it is non-corrupt, deletes if it is corrupted\n",
    "folder_path = 'PetImages'\n",
    "extensions = []\n",
    "for fldr in os.listdir(folder_path):\n",
    "    sub_folder_path = os.path.join(folder_path, fldr)\n",
    "    for filee in os.listdir(sub_folder_path):\n",
    "        file_path = os.path.join(sub_folder_path, filee)\n",
    "        print('** Path: {}  **'.format(file_path), end=\"\\r\", flush=True)\n",
    "        try:\n",
    "            im = Image.open(file_path)\n",
    "            rgb_im = im.convert('RGB')\n",
    "            if filee.split('.')[1] not in extensions:\n",
    "                extensions.append(filee.split('.')[1])\n",
    "        except: \n",
    "            os.remove(file_path)"
   ]
  },
  {
   "attachments": {},
   "cell_type": "markdown",
   "metadata": {},
   "source": [
    "Using the above section of code, cats/666.jpg and dogs/11702.jpg were identified as corrupt and deleted"
   ]
  },
  {
   "cell_type": "code",
   "execution_count": 3,
   "metadata": {},
   "outputs": [],
   "source": [
    "#splits each folder into .8 training, .1 validation, and .1 testing\n",
    "splitfolders.ratio(\"PetImages\", output=\"PetImagesSplit\",\n",
    "    seed=1337, ratio=(.8, .1, .1), group_prefix=None, move=False)"
   ]
  },
  {
   "cell_type": "code",
   "execution_count": 4,
   "metadata": {},
   "outputs": [],
   "source": [
    "\"\"\"the following function is used to create a data generator that will be used to train the neural network. The data generator will randomly rotate, shift, and zoom the images to create a more robust neural network.\"\"\"\n",
    "training_data_generator = ImageDataGenerator(\n",
    "        #Rescale the image by 1/255 to normalize the pixel values\n",
    "        rescale=1.0/255,\n",
    "        #Randomly increase or decrease the size of the image by up to 20%\n",
    "        zoom_range=0.2, \n",
    "        #Randomly rotate the image between -15,15 degrees\n",
    "        rotation_range=15, \n",
    "        #Shift the image along its width by up to +/- 5%\n",
    "        width_shift_range=0.05, \n",
    "        #Shift the image along its height by up to +/- 5%\n",
    "        height_shift_range=0.05 \n",
    ")"
   ]
  },
  {
   "cell_type": "code",
   "execution_count": 5,
   "metadata": {},
   "outputs": [],
   "source": [
    "#variables being fed to training data generator\n",
    "train_directory = \"PetImagesSplit/train/\" #path to the folder containing the images to train\n",
    "val_directory = \"PetImagesSplit/val/\" #path to the folder containing the images to val\n",
    "test_directory = \"PetImagesSplit/test/\" #path to the folder containing the images to test\n",
    "class_mode = \"categorical\"\n",
    "color_mode = \"rgb\" \n",
    "target_size = (256, 256) #resizes each image to 256x256\n",
    "batch_size = 16"
   ]
  },
  {
   "cell_type": "code",
   "execution_count": 6,
   "metadata": {},
   "outputs": [
    {
     "name": "stdout",
     "output_type": "stream",
     "text": [
      "Found 20731 images belonging to 2 classes.\n"
     ]
    }
   ],
   "source": [
    "training_iterator = training_data_generator.flow_from_directory(train_directory, class_mode =class_mode ,color_mode =color_mode ,target_size = target_size, batch_size = batch_size)"
   ]
  },
  {
   "attachments": {},
   "cell_type": "markdown",
   "metadata": {},
   "source": [
    "Mode Building"
   ]
  },
  {
   "cell_type": "code",
   "execution_count": 7,
   "metadata": {},
   "outputs": [],
   "source": [
    "def create_model_base():\n",
    "    model = tf.keras.Sequential()\n",
    "    model.add(tf.keras.Input(shape=(256, 256, 3)))\n",
    "    model.add(tf.keras.layers.Conv2D(2, 5, strides=3, activation=\"relu\")) \n",
    "    model.add(tf.keras.layers.MaxPooling2D(\n",
    "        pool_size=(5, 5), strides=(5,5)))\n",
    "    model.add(tf.keras.layers.Conv2D(4, 3, strides=1, activation=\"relu\")) \n",
    "    model.add(tf.keras.layers.MaxPooling2D(\n",
    "        pool_size=(2,2), strides=(2,2)))\n",
    "    model.add(tf.keras.layers.Flatten())\n",
    "    model.add(tf.keras.layers.Dense(2,activation=\"softmax\"))\n",
    "    return model"
   ]
  },
  {
   "attachments": {},
   "cell_type": "markdown",
   "metadata": {},
   "source": [
    "create_model_base was a model used to identify pneumonia in grayscale chest images from a lesson I did. Needless to say, the accuracy was no better than chance after 5 epochs. ~600 parameters."
   ]
  },
  {
   "cell_type": "code",
   "execution_count": 8,
   "metadata": {},
   "outputs": [],
   "source": [
    "def create_model_1():\n",
    "    model = tf.keras.Sequential()   \n",
    "    model.add(tf.keras.layers.Conv2D(32, (3, 3), activation='relu', kernel_initializer='he_uniform', padding='same', input_shape=(256, 256, 3)))\n",
    "    model.add(tf.keras.layers.MaxPooling2D((2, 2)))\n",
    "    model.add(tf.keras.layers.Conv2D(64, (3, 3), activation='relu', kernel_initializer='he_uniform', padding='same'))\n",
    "    model.add(tf.keras.layers.MaxPooling2D((2, 2)))\n",
    "    model.add(tf.keras.layers.Conv2D(128, (3, 3), activation='relu', kernel_initializer='he_uniform', padding='same'))\n",
    "    model.add(tf.keras.layers.MaxPooling2D((2, 2)))\n",
    "    model.add(tf.keras.layers.Flatten())\n",
    "    model.add(tf.keras.layers.Dense(2,activation=\"softmax\"))\n",
    "    return model"
   ]
  },
  {
   "attachments": {},
   "cell_type": "markdown",
   "metadata": {},
   "source": [
    "create_model_base1 was based on Jason Brownlee's claim that stacking convolutional layers add easily understandable complexity, which I felt the model definitely needed considering the lower paramter count and accuracy. ~350k params. The accuraccy ended up being ~.55 at 1 and 2 epochs which indicated to me that the model needed even more complexity"
   ]
  },
  {
   "cell_type": "code",
   "execution_count": 9,
   "metadata": {},
   "outputs": [],
   "source": [
    "def create_model_2():\n",
    "    model = tf.keras.Sequential()   \n",
    "    model.add(tf.keras.layers.Conv2D(32, (3, 3), activation='relu', kernel_initializer='he_uniform', padding='same', input_shape=(256, 256, 3)))\n",
    "    model.add(tf.keras.layers.MaxPooling2D((2, 2)))\n",
    "    model.add(tf.keras.layers.Conv2D(64, (3, 3), activation='relu', kernel_initializer='he_uniform', padding='same'))\n",
    "    model.add(tf.keras.layers.MaxPooling2D((2, 2)))\n",
    "    model.add(tf.keras.layers.Conv2D(128, (3, 3), activation='relu', kernel_initializer='he_uniform', padding='same'))\n",
    "    model.add(tf.keras.layers.MaxPooling2D((2, 2)))\n",
    "    model.add(tf.keras.layers.Conv2D(256, (3, 3), activation='relu', kernel_initializer='he_uniform', padding='same'))\n",
    "    model.add(tf.keras.layers.MaxPooling2D((2, 2)))\n",
    "    model.add(tf.keras.layers.Flatten())\n",
    "    model.add(tf.keras.layers.Dense(2,activation=\"softmax\"))\n",
    "    return model"
   ]
  },
  {
   "attachments": {},
   "cell_type": "markdown",
   "metadata": {},
   "source": [
    "create_model_complex added an extra layer of convolution and pooling. ~520k params. The added features led to a worse accuraccy of .53-.52 for the first 2 epochs."
   ]
  },
  {
   "cell_type": "code",
   "execution_count": 10,
   "metadata": {},
   "outputs": [],
   "source": [
    "def create_model_3():\n",
    "    model = tf.keras.Sequential()   \n",
    "    model.add(tf.keras.layers.Conv2D(32, (3, 3), activation='relu', kernel_initializer='he_uniform', padding='same', input_shape=(256, 256, 3)))\n",
    "    model.add(tf.keras.layers.MaxPooling2D((2, 2)))\n",
    "    model.add(tf.keras.layers.Conv2D(64, (3, 3), activation='relu', kernel_initializer='he_uniform', padding='same'))\n",
    "    model.add(tf.keras.layers.MaxPooling2D((2, 2)))\n",
    "    # model.add(tf.keras.layers.Conv2D(128, (3, 3), activation='relu', kernel_initializer='he_uniform', padding='same'))\n",
    "    # model.add(tf.keras.layers.MaxPooling2D((2, 2)))\n",
    "    model.add(tf.keras.layers.Flatten())\n",
    "    model.add(tf.keras.layers.Dense(2,activation=\"softmax\"))\n",
    "    return model"
   ]
  },
  {
   "attachments": {},
   "cell_type": "markdown",
   "metadata": {},
   "source": [
    "Removing a layer seemed to increase learning. 1st few epochs .6 -> .65 -> .7. Ended at .8 after 10 iterations, logarithmic growth. Best score yet, but needs more tuning"
   ]
  },
  {
   "cell_type": "code",
   "execution_count": 11,
   "metadata": {},
   "outputs": [
    {
     "name": "stdout",
     "output_type": "stream",
     "text": [
      "Model: \"sequential\"\n",
      "_________________________________________________________________\n",
      "Layer (type)                 Output Shape              Param #   \n",
      "=================================================================\n",
      "conv2d (Conv2D)              (None, 256, 256, 32)      896       \n",
      "_________________________________________________________________\n",
      "max_pooling2d (MaxPooling2D) (None, 128, 128, 32)      0         \n",
      "_________________________________________________________________\n",
      "conv2d_1 (Conv2D)            (None, 128, 128, 64)      18496     \n",
      "_________________________________________________________________\n",
      "max_pooling2d_1 (MaxPooling2 (None, 64, 64, 64)        0         \n",
      "_________________________________________________________________\n",
      "flatten (Flatten)            (None, 262144)            0         \n",
      "_________________________________________________________________\n",
      "dense (Dense)                (None, 2)                 524290    \n",
      "=================================================================\n",
      "Total params: 543,682\n",
      "Trainable params: 543,682\n",
      "Non-trainable params: 0\n",
      "_________________________________________________________________\n"
     ]
    }
   ],
   "source": [
    "model = create_model_3()\n",
    "model.summary()"
   ]
  },
  {
   "cell_type": "code",
   "execution_count": 12,
   "metadata": {},
   "outputs": [],
   "source": [
    "#model compilation\n",
    "#model.compile(optimizer=\"adam\",loss=\"categorical_crossentropy\",metrics=[\"accuracy\"])\n",
    "model.compile(\n",
    "    optimizer=tf.keras.optimizers.Adam(learning_rate=0.001),\n",
    "    loss=tf.keras.losses.CategoricalCrossentropy(),\n",
    "    metrics=[tf.keras.metrics.CategoricalAccuracy(),tf.keras.metrics.AUC()])"
   ]
  },
  {
   "cell_type": "code",
   "execution_count": 13,
   "metadata": {},
   "outputs": [
    {
     "name": "stdout",
     "output_type": "stream",
     "text": [
      "Found 2907 images belonging to 2 classes.\n",
      "Found 2906 images belonging to 2 classes.\n"
     ]
    }
   ],
   "source": [
    "validation_data_generator = ImageDataGenerator( rescale=1./255)\n",
    "validation_iterator = validation_data_generator.flow_from_directory(val_directory, class_mode =class_mode ,color_mode =color_mode ,target_size = target_size, batch_size = batch_size)\n",
    "test_data_generator = ImageDataGenerator( rescale=1./255)\n",
    "test_iterator = validation_data_generator.flow_from_directory(test_directory, class_mode =class_mode ,color_mode =color_mode ,target_size = target_size, batch_size = batch_size)"
   ]
  },
  {
   "cell_type": "code",
   "execution_count": 14,
   "metadata": {},
   "outputs": [
    {
     "name": "stdout",
     "output_type": "stream",
     "text": [
      "Epoch 1/10\n",
      "1234/1295 [===========================>..] - ETA: 9s - loss: 0.8329 - categorical_accuracy: 0.6019 - auc: 0.6462"
     ]
    },
    {
     "name": "stderr",
     "output_type": "stream",
     "text": [
      "c:\\Users\\Wiggles\\miniconda3\\envs\\train\\lib\\site-packages\\PIL\\TiffImagePlugin.py:858: UserWarning: Truncated File Read\n",
      "  warnings.warn(str(msg))\n"
     ]
    },
    {
     "name": "stdout",
     "output_type": "stream",
     "text": [
      "1295/1295 [==============================] - 201s 151ms/step - loss: 0.8229 - categorical_accuracy: 0.6028 - auc: 0.6487 - val_loss: 0.6478 - val_categorical_accuracy: 0.6075 - val_auc: 0.6710\n",
      "Epoch 2/10\n",
      "1295/1295 [==============================] - 182s 141ms/step - loss: 0.6257 - categorical_accuracy: 0.6499 - auc: 0.7068 - val_loss: 0.5778 - val_categorical_accuracy: 0.6990 - val_auc: 0.7691\n",
      "Epoch 3/10\n",
      "1295/1295 [==============================] - 179s 138ms/step - loss: 0.5798 - categorical_accuracy: 0.7006 - auc: 0.7685 - val_loss: 0.5925 - val_categorical_accuracy: 0.6821 - val_auc: 0.7576\n",
      "Epoch 4/10\n",
      "1295/1295 [==============================] - 183s 141ms/step - loss: 0.5467 - categorical_accuracy: 0.7259 - auc: 0.7996 - val_loss: 0.5073 - val_categorical_accuracy: 0.7523 - val_auc: 0.8324\n",
      "Epoch 5/10\n",
      "1295/1295 [==============================] - 180s 139ms/step - loss: 0.5097 - categorical_accuracy: 0.7541 - auc: 0.8318 - val_loss: 0.4911 - val_categorical_accuracy: 0.7723 - val_auc: 0.8492\n",
      "Epoch 6/10\n",
      "1295/1295 [==============================] - 176s 136ms/step - loss: 0.4849 - categorical_accuracy: 0.7687 - auc: 0.8501 - val_loss: 0.4861 - val_categorical_accuracy: 0.7668 - val_auc: 0.8543\n",
      "Epoch 7/10\n",
      "1295/1295 [==============================] - 174s 134ms/step - loss: 0.4715 - categorical_accuracy: 0.7811 - auc: 0.8596 - val_loss: 0.4272 - val_categorical_accuracy: 0.8074 - val_auc: 0.8868\n",
      "Epoch 8/10\n",
      "1295/1295 [==============================] - 177s 137ms/step - loss: 0.4529 - categorical_accuracy: 0.7942 - auc: 0.8719 - val_loss: 0.4338 - val_categorical_accuracy: 0.8060 - val_auc: 0.8850\n",
      "Epoch 9/10\n",
      "1295/1295 [==============================] - 175s 135ms/step - loss: 0.4416 - categorical_accuracy: 0.7964 - auc: 0.8783 - val_loss: 0.4199 - val_categorical_accuracy: 0.8108 - val_auc: 0.8905\n",
      "Epoch 10/10\n",
      "1295/1295 [==============================] - 183s 141ms/step - loss: 0.4397 - categorical_accuracy: 0.7958 - auc: 0.8788 - val_loss: 0.4064 - val_categorical_accuracy: 0.8125 - val_auc: 0.8962\n"
     ]
    },
    {
     "data": {
      "text/plain": [
       "<keras.callbacks.History at 0x1f7a798e700>"
      ]
     },
     "execution_count": 14,
     "metadata": {},
     "output_type": "execute_result"
    }
   ],
   "source": [
    "model.fit(\n",
    "       training_iterator,\n",
    "       steps_per_epoch=training_iterator.samples/batch_size,\n",
    "       epochs=10,\n",
    "       validation_data=validation_iterator,\n",
    "       validation_steps=validation_iterator.samples/batch_size)"
   ]
  },
  {
   "cell_type": "code",
   "execution_count": null,
   "metadata": {},
   "outputs": [],
   "source": [
    "history = model.fit(X_train, Y_train, validation_data=(X_test, Y_test), batch_size=32, epochs=10, verbose=1)\n",
    "\n",
    "# Get training and test loss histories\n",
    "training_loss = history.history['loss']\n",
    "test_loss = history.history['val_loss']\n",
    "\n",
    "# Create count of the number of epochs\n",
    "epoch_count = range(1, len(training_loss) + 1)\n",
    "\n",
    "# Visualize loss history\n",
    "plt.plot(epoch_count, training_loss, 'r--')\n",
    "plt.plot(epoch_count, test_loss, 'b-')\n",
    "plt.legend(['Training Loss', 'Test Loss'])\n",
    "plt.xlabel('Epoch')\n",
    "plt.ylabel('Loss')\n",
    "plt.show();"
   ]
  },
  {
   "cell_type": "code",
   "execution_count": 15,
   "metadata": {},
   "outputs": [
    {
     "name": "stderr",
     "output_type": "stream",
     "text": [
      "c:\\Users\\Wiggles\\miniconda3\\envs\\train\\lib\\site-packages\\keras\\engine\\training.py:2006: UserWarning: `Model.evaluate_generator` is deprecated and will be removed in a future version. Please use `Model.evaluate`, which supports generators.\n",
      "  warnings.warn('`Model.evaluate_generator` is deprecated and '\n"
     ]
    },
    {
     "name": "stdout",
     "output_type": "stream",
     "text": [
      "[0.40549159049987793, 0.8152099251747131, 0.8966764807701111]\n"
     ]
    }
   ],
   "source": [
    "acc = model.evaluate_generator(test_iterator, steps=len(test_iterator), verbose=0)\n",
    "print(acc)"
   ]
  },
  {
   "cell_type": "code",
   "execution_count": null,
   "metadata": {},
   "outputs": [],
   "source": []
  }
 ],
 "metadata": {
  "kernelspec": {
   "display_name": "train",
   "language": "python",
   "name": "python3"
  },
  "language_info": {
   "codemirror_mode": {
    "name": "ipython",
    "version": 3
   },
   "file_extension": ".py",
   "mimetype": "text/x-python",
   "name": "python",
   "nbconvert_exporter": "python",
   "pygments_lexer": "ipython3",
   "version": "3.8.15"
  },
  "orig_nbformat": 4,
  "vscode": {
   "interpreter": {
    "hash": "7ee15ca60f8a297952ff4a3b793b007f3d5d9db1c03645a5ee0ff1dc970916de"
   }
  }
 },
 "nbformat": 4,
 "nbformat_minor": 2
}
