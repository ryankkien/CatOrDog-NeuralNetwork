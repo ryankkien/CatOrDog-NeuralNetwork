{
 "cells": [
  {
   "attachments": {},
   "cell_type": "markdown",
   "metadata": {},
   "source": [
    "Cat or Dog Neural Network"
   ]
  },
  {
   "cell_type": "code",
   "execution_count": 115,
   "metadata": {},
   "outputs": [],
   "source": [
    "#load modules\n",
    "from tensorflow.keras.preprocessing.image import ImageDataGenerator\n",
    "from keras import preprocessing\n",
    "import tensorflow as tf\n",
    "import os\n",
    "from PIL import Image\n",
    "import splitfolders"
   ]
  },
  {
   "attachments": {},
   "cell_type": "markdown",
   "metadata": {},
   "source": [
    "Image Processing"
   ]
  },
  {
   "cell_type": "code",
   "execution_count": 105,
   "metadata": {},
   "outputs": [
    {
     "name": "stdout",
     "output_type": "stream",
     "text": [
      "** Path: PetImages\\Dog\\9999.jpg  ***\r"
     ]
    }
   ],
   "source": [
    "#goes through each image and checks if it is non-corrupt, deletes if it is corrupted\n",
    "folder_path = 'PetImages'\n",
    "extensions = []\n",
    "for fldr in os.listdir(folder_path):\n",
    "    sub_folder_path = os.path.join(folder_path, fldr)\n",
    "    for filee in os.listdir(sub_folder_path):\n",
    "        file_path = os.path.join(sub_folder_path, filee)\n",
    "        print('** Path: {}  **'.format(file_path), end=\"\\r\", flush=True)\n",
    "        try:\n",
    "            im = Image.open(file_path)\n",
    "            rgb_im = im.convert('RGB')\n",
    "            if filee.split('.')[1] not in extensions:\n",
    "                extensions.append(filee.split('.')[1])\n",
    "        except: \n",
    "            os.remove(file_path)"
   ]
  },
  {
   "attachments": {},
   "cell_type": "markdown",
   "metadata": {},
   "source": [
    "Using the above section of code, cats/666.jpg and dogs/11702.jpg were identified as corrupt and deleted"
   ]
  },
  {
   "cell_type": "code",
   "execution_count": 116,
   "metadata": {},
   "outputs": [
    {
     "name": "stderr",
     "output_type": "stream",
     "text": [
      "Copying files: 24998 files [00:19, 1253.47 files/s]\n"
     ]
    }
   ],
   "source": [
    "#splits each folder into .8 training, .1 validation, and .1 testing\n",
    "splitfolders.ratio(\"PetImages\", output=\"PetImagesSplit\",\n",
    "    seed=1337, ratio=(.8, .1, .1), group_prefix=None, move=False)"
   ]
  },
  {
   "cell_type": "code",
   "execution_count": 106,
   "metadata": {},
   "outputs": [],
   "source": [
    "training_data_generator = ImageDataGenerator(\n",
    "        #Rescale the image by 1/255 to normalize the pixel values\n",
    "        rescale=1.0/255,\n",
    "        #Randomly increase or decrease the size of the image by up to 20%\n",
    "        zoom_range=0.2, \n",
    "        #Randomly rotate the image between -15,15 degrees\n",
    "        rotation_range=15, \n",
    "        #Shift the image along its width by up to +/- 5%\n",
    "        width_shift_range=0.05, \n",
    "        #Shift the image along its height by up to +/- 5%\n",
    "        height_shift_range=0.05 \n",
    ")"
   ]
  },
  {
   "cell_type": "code",
   "execution_count": 118,
   "metadata": {},
   "outputs": [],
   "source": [
    "#variables being fed to training data generator\n",
    "train_directory = \"PetImagesSplit/train/\" #path to the folder containing the images to train\n",
    "val_directory = \"PetImagesSplit/val/\" #path to the folder containing the images to val\n",
    "test_directory = \"PetImagesSplit/test/\" #path to the folder containing the images to test\n",
    "class_mode = \"categorical\"\n",
    "color_mode = \"rgb\" \n",
    "target_size = (256, 256) #resizes each image to 256x256\n",
    "batch_size = 16"
   ]
  },
  {
   "cell_type": "code",
   "execution_count": 119,
   "metadata": {},
   "outputs": [
    {
     "name": "stdout",
     "output_type": "stream",
     "text": [
      "Found 19998 images belonging to 2 classes.\n"
     ]
    }
   ],
   "source": [
    "training_iterator = training_data_generator.flow_from_directory(train_directory, class_mode =class_mode ,color_mode =color_mode ,target_size = target_size, batch_size = batch_size)"
   ]
  },
  {
   "attachments": {},
   "cell_type": "markdown",
   "metadata": {},
   "source": [
    "Mode Building"
   ]
  },
  {
   "cell_type": "code",
   "execution_count": 120,
   "metadata": {},
   "outputs": [],
   "source": [
    "model = tf.keras.Sequential()"
   ]
  },
  {
   "cell_type": "code",
   "execution_count": 121,
   "metadata": {},
   "outputs": [],
   "source": [
    "model.add(tf.keras.Input(shape=(256, 256, 3)))\n",
    "model.add(tf.keras.layers.Conv2D(2, 5, strides=3, activation=\"relu\")) \n",
    "model.add(tf.keras.layers.MaxPooling2D(\n",
    "    pool_size=(5, 5), strides=(5,5)))\n",
    "model.add(tf.keras.layers.Conv2D(4, 3, strides=1, activation=\"relu\")) \n",
    "model.add(tf.keras.layers.MaxPooling2D(\n",
    "    pool_size=(2,2), strides=(2,2)))\n",
    "model.add(tf.keras.layers.Flatten())\n",
    "\n",
    "model.add(tf.keras.layers.Dense(2,activation=\"softmax\"))"
   ]
  },
  {
   "cell_type": "code",
   "execution_count": 122,
   "metadata": {},
   "outputs": [
    {
     "name": "stdout",
     "output_type": "stream",
     "text": [
      "Model: \"sequential_12\"\n",
      "_________________________________________________________________\n",
      " Layer (type)                Output Shape              Param #   \n",
      "=================================================================\n",
      " conv2d_8 (Conv2D)           (None, 84, 84, 2)         152       \n",
      "                                                                 \n",
      " max_pooling2d_8 (MaxPooling  (None, 16, 16, 2)        0         \n",
      " 2D)                                                             \n",
      "                                                                 \n",
      " conv2d_9 (Conv2D)           (None, 14, 14, 4)         76        \n",
      "                                                                 \n",
      " max_pooling2d_9 (MaxPooling  (None, 7, 7, 4)          0         \n",
      " 2D)                                                             \n",
      "                                                                 \n",
      " flatten_9 (Flatten)         (None, 196)               0         \n",
      "                                                                 \n",
      " dense_19 (Dense)            (None, 2)                 394       \n",
      "                                                                 \n",
      "=================================================================\n",
      "Total params: 622\n",
      "Trainable params: 622\n",
      "Non-trainable params: 0\n",
      "_________________________________________________________________\n"
     ]
    }
   ],
   "source": [
    "model.summary()"
   ]
  },
  {
   "cell_type": "code",
   "execution_count": 123,
   "metadata": {},
   "outputs": [],
   "source": [
    "#model compilation\n",
    "#model.compile(optimizer=\"adam\",loss=\"categorical_crossentropy\",metrics=[\"accuracy\"])\n",
    "model.compile(\n",
    "    optimizer=tf.keras.optimizers.Adam(learning_rate=0.005),\n",
    "    loss=tf.keras.losses.CategoricalCrossentropy(),\n",
    "    metrics=[tf.keras.metrics.CategoricalAccuracy(),tf.keras.metrics.AUC()])"
   ]
  },
  {
   "cell_type": "code",
   "execution_count": 124,
   "metadata": {},
   "outputs": [
    {
     "name": "stdout",
     "output_type": "stream",
     "text": [
      "Found 2498 images belonging to 2 classes.\n"
     ]
    }
   ],
   "source": [
    "validation_data_generator = ImageDataGenerator( rescale=1./255)\n",
    "validation_iterator = validation_data_generator.flow_from_directory(val_directory, class_mode =class_mode ,color_mode =color_mode ,target_size = target_size, batch_size = batch_size)"
   ]
  },
  {
   "cell_type": "code",
   "execution_count": 125,
   "metadata": {},
   "outputs": [
    {
     "name": "stdout",
     "output_type": "stream",
     "text": [
      "Epoch 1/2\n",
      " 247/1249 [====>.........................] - ETA: 3:24 - loss: 0.6936 - categorical_accuracy: 0.5023 - auc_6: 0.5061"
     ]
    },
    {
     "name": "stderr",
     "output_type": "stream",
     "text": [
      "c:\\Users\\Wiggles\\anaconda3\\lib\\site-packages\\PIL\\TiffImagePlugin.py:819: UserWarning: Truncated File Read\n",
      "  warnings.warn(str(msg))\n"
     ]
    },
    {
     "name": "stdout",
     "output_type": "stream",
     "text": [
      "1249/1249 [==============================] - 248s 198ms/step - loss: 0.6935 - categorical_accuracy: 0.5021 - auc_6: 0.5000 - val_loss: 0.6932 - val_categorical_accuracy: 0.5004 - val_auc_6: 0.5008\n",
      "Epoch 2/2\n",
      "1249/1249 [==============================] - 186s 149ms/step - loss: 0.6936 - categorical_accuracy: 0.4960 - auc_6: 0.4946 - val_loss: 0.6933 - val_categorical_accuracy: 0.5000 - val_auc_6: 0.5002\n"
     ]
    },
    {
     "data": {
      "text/plain": [
       "<keras.callbacks.History at 0x265c8749820>"
      ]
     },
     "execution_count": 125,
     "metadata": {},
     "output_type": "execute_result"
    }
   ],
   "source": [
    "model.fit(\n",
    "       training_iterator,\n",
    "       steps_per_epoch=training_iterator.samples/batch_size,\n",
    "       epochs=2,\n",
    "       validation_data=validation_iterator,\n",
    "       validation_steps=validation_iterator.samples/batch_size)"
   ]
  },
  {
   "cell_type": "code",
   "execution_count": null,
   "metadata": {},
   "outputs": [],
   "source": []
  },
  {
   "cell_type": "code",
   "execution_count": null,
   "metadata": {},
   "outputs": [],
   "source": []
  }
 ],
 "metadata": {
  "kernelspec": {
   "display_name": "base",
   "language": "python",
   "name": "python3"
  },
  "language_info": {
   "codemirror_mode": {
    "name": "ipython",
    "version": 3
   },
   "file_extension": ".py",
   "mimetype": "text/x-python",
   "name": "python",
   "nbconvert_exporter": "python",
   "pygments_lexer": "ipython3",
   "version": "3.9.7"
  },
  "orig_nbformat": 4,
  "vscode": {
   "interpreter": {
    "hash": "8d339a685c10363b5426c2468a31efbca28c8ff3501f9b7bc566ad1e579318c1"
   }
  }
 },
 "nbformat": 4,
 "nbformat_minor": 2
}
